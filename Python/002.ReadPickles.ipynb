{
 "cells": [
  {
   "cell_type": "code",
   "execution_count": null,
   "id": "98dfd5b6-9fc1-4563-b8e8-21897a7569ae",
   "metadata": {},
   "outputs": [],
   "source": [
    "import os\n",
    "\n",
    "import pandas as pd"
   ]
  },
  {
   "cell_type": "code",
   "execution_count": null,
   "id": "ce2f3148-d27b-43c5-a6a6-ee14d0c2a95b",
   "metadata": {},
   "outputs": [],
   "source": [
    "datasets = {}\n",
    "\n",
    "for f in os.listdir('./output'):\n",
    "    if f.endswith('.pkl'):\n",
    "        datasets[f[:-4]] = pd.read_pickle(f'./output/{f}')"
   ]
  }
 ],
 "metadata": {
  "kernelspec": {
   "display_name": "Python 3 (ipykernel)",
   "language": "python",
   "name": "python3"
  },
  "language_info": {
   "codemirror_mode": {
    "name": "ipython",
    "version": 3
   },
   "file_extension": ".py",
   "mimetype": "text/x-python",
   "name": "python",
   "nbconvert_exporter": "python",
   "pygments_lexer": "ipython3",
   "version": "3.10.6"
  }
 },
 "nbformat": 4,
 "nbformat_minor": 5
}
