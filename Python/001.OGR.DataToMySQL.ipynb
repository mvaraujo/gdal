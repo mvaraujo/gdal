{
 "cells": [
  {
   "cell_type": "markdown",
   "metadata": {
    "tags": []
   },
   "source": [
    "# Imports!"
   ]
  },
  {
   "cell_type": "code",
   "execution_count": null,
   "metadata": {},
   "outputs": [],
   "source": [
    "import pandas     as pd\n",
    "import sqlalchemy as sa\n",
    "\n",
    "from osgeo      import ogr\n",
    "from sqlalchemy import MetaData, Table, Column, create_engine\n",
    "\n",
    "import os"
   ]
  },
  {
   "cell_type": "markdown",
   "metadata": {},
   "source": [
    "# Connections\n",
    "<hr>"
   ]
  },
  {
   "cell_type": "code",
   "execution_count": null,
   "metadata": {},
   "outputs": [],
   "source": [
    "mysql_cnx = \\\n",
    "    (\n",
    "        create_engine(\"mysql+mysqldb://root:gdal@db/gdal?charset=utf8\", echo=False)\n",
    "    ) \\\n",
    "        .connect() \n",
    "\n",
    "gb_driver = ogr.GetDriverByName(\"ESRI Shapefile\")"
   ]
  },
  {
   "cell_type": "markdown",
   "metadata": {
    "tags": []
   },
   "source": [
    "# DumpSHP\n",
    "<hr>"
   ]
  },
  {
   "cell_type": "markdown",
   "metadata": {
    "tags": []
   },
   "source": [
    "##### `gb_*`"
   ]
  },
  {
   "cell_type": "code",
   "execution_count": null,
   "metadata": {},
   "outputs": [],
   "source": [
    "def gb_open(gb_driver:ogr.Driver, path:str, name:str) -> ogr.DataSource:\n",
    "    return gb_driver.Open(\n",
    "            f'{path}/{name}',\n",
    "            0\n",
    "        )\n",
    "\n",
    "def gb_get_layer(gb:ogr.DataSource) -> ogr.Layer:\n",
    "    assert gb.GetLayerCount() == 1\n",
    "\n",
    "    return gb[0]\n",
    "\n",
    "def gb_get_dataframe(gb_layer:ogr.Layer) -> pd.DataFrame:\n",
    "    def gb_get_layer_field_names(gb_layer:ogr.Layer) -> list:\n",
    "        return \\\n",
    "            list(\n",
    "                gb_layer[0] \\\n",
    "                    .items() \\\n",
    "                    .keys()\n",
    "            ) + \\\n",
    "            [\n",
    "                'coord_ul_x', 'coord_lr_x',\n",
    "                'coord_ul_y', 'coord_lr_y'\n",
    "            ]\n",
    "\n",
    "    def gb_get_layer_data(gb_layer:ogr.Layer) -> list:\n",
    "        return \\\n",
    "            [\n",
    "                [*r] + get_envelope(r)\n",
    "                for r\n",
    "                in [*gb_layer]\n",
    "            ]\n",
    "    \n",
    "    def get_envelope(feature:ogr.Layer) -> list:\n",
    "        return \\\n",
    "            list(\n",
    "                feature \\\n",
    "                    .GetGeometryRef() \\\n",
    "                    .GetEnvelope()\n",
    "            )\n",
    "\n",
    "    return \\\n",
    "        pd.DataFrame(\n",
    "            data=gb_get_layer_data(gb_layer),\n",
    "            columns=gb_get_layer_field_names(gb_layer)\n",
    "        )"
   ]
  },
  {
   "cell_type": "markdown",
   "metadata": {},
   "source": [
    "##### `dumpSHP`"
   ]
  },
  {
   "cell_type": "code",
   "execution_count": null,
   "metadata": {
    "tags": []
   },
   "outputs": [],
   "source": [
    "def dumpSHP(gb_driver, cnx, path, name):\n",
    "    print('----------')\n",
    "    print(name)    \n",
    "    \n",
    "    gb       = gb_open(gb_driver, path, name)\n",
    "    gb_layer = gb_get_layer(gb)\n",
    "    \n",
    "    gb_layer_name      = gb_layer.GetName()\n",
    "    gb_layer_geom_type = gb_layer.GetGeomType()\n",
    "    \n",
    "    pkl_file_path = f'output/{gb_layer_name}.pkl'\n",
    "    \n",
    "    if os.path.exists(pkl_file_path):\n",
    "        return\n",
    "\n",
    "    # wkbPoint = 1,\n",
    "    # wkbLineString = 2,\n",
    "    # https://gis.stackexchange.com/a/239295/41128    \n",
    "    \n",
    "    # ----------    \n",
    "    print('Reading data')    \n",
    "    data = gb_get_dataframe(gb_layer)    \n",
    "    print('Read data')    \n",
    "    # ----------\n",
    "    \n",
    "    # ----------\n",
    "    print('Writing pickle')\n",
    "    data.to_pickle(pkl_file_path)\n",
    "    print('Wrote pickle')\n",
    "    # ----------    \n",
    "    \n",
    "    # ----------\n",
    "    print('Writing data')\n",
    "    data \\\n",
    "        .to_sql(\n",
    "            con=cnx,\n",
    "            name=gb_layer_name,\n",
    "            if_exists='replace'\n",
    "        )\n",
    "    print('Wrote data')\n",
    "    # ----------"
   ]
  },
  {
   "cell_type": "markdown",
   "metadata": {},
   "source": [
    "`dumpSHP`"
   ]
  },
  {
   "cell_type": "markdown",
   "metadata": {
    "tags": []
   },
   "source": [
    "# GEOSAMPA\n",
    "<hr>"
   ]
  },
  {
   "cell_type": "markdown",
   "metadata": {
    "tags": []
   },
   "source": [
    "`../Assets/GEOSAMPA/GEOLOG/LAYERS_GEOLOG`"
   ]
  },
  {
   "cell_type": "code",
   "execution_count": null,
   "metadata": {
    "scrolled": true,
    "tags": []
   },
   "outputs": [],
   "source": [
    "GEOLOG_Path = '../Assets/GEOSAMPA/GEOLOG/LAYERS_GEOLOG'\n",
    "\n",
    "for \\\n",
    "    file_name \\\n",
    "    in \\\n",
    "        [\n",
    "            file_name\n",
    "            for file_name\n",
    "            in os.listdir(GEOLOG_Path)\n",
    "            if file_name[-4:] == '.shp'\n",
    "    \n",
    "        ]:\n",
    "    \n",
    "    dumpSHP(gb_driver, mysql_cnx, GEOLOG_Path, file_name)\n",
    "    \n",
    "print('----------')    "
   ]
  },
  {
   "cell_type": "markdown",
   "metadata": {},
   "source": [
    "`../Assets/GEOSAMPA/SIRGAS_SHP_logradouronbl`"
   ]
  },
  {
   "cell_type": "code",
   "execution_count": null,
   "metadata": {
    "tags": []
   },
   "outputs": [],
   "source": [
    "dumpSHP(\n",
    "    gb_driver,\n",
    "    mysql_cnx,\n",
    "    '../Assets/GEOSAMPA/SIRGAS_SHP_logradouronbl',\n",
    "    'SIRGAS_SHP_logradouronbl_line.shp'\n",
    ")\n",
    "\n",
    "print('----------')"
   ]
  },
  {
   "cell_type": "markdown",
   "metadata": {},
   "source": [
    "# GEOfabrik - South America/Brazil/Sudeste\n",
    "<hr>"
   ]
  },
  {
   "cell_type": "markdown",
   "metadata": {
    "tags": []
   },
   "source": [
    "`../Assets/sudeste-latest-free.shp`"
   ]
  },
  {
   "cell_type": "code",
   "execution_count": null,
   "metadata": {
    "tags": []
   },
   "outputs": [],
   "source": [
    "GEOLOG_Path = '../Assets/sudeste-latest-free.shp'\n",
    "\n",
    "for \\\n",
    "    file_name \\\n",
    "    in \\\n",
    "        [\n",
    "            file_name\n",
    "            for file_name\n",
    "            in sorted(os.listdir(GEOLOG_Path))\n",
    "            if file_name[-4:] == '.shp'\n",
    "    \n",
    "        ]:\n",
    "\n",
    "    dumpSHP(gb_driver, mysql_cnx, GEOLOG_Path, file_name)\n",
    "    \n",
    "print('----------')"
   ]
  },
  {
   "cell_type": "code",
   "execution_count": null,
   "metadata": {},
   "outputs": [],
   "source": [
    "GEOLOG_Path = '../../Assets/sudeste-latest-free.shp'\n",
    "\n",
    "for \\\n",
    "    file_name \\\n",
    "    in \\\n",
    "        [\n",
    "            file_name\n",
    "            for file_name\n",
    "            in os.listdir(GEOLOG_Path)\n",
    "            if file_name[-4:] == '.shp'\n",
    "    \n",
    "        ]:\n",
    "\n",
    "    dumpSHP(gb_driver, mysql_cnx, GEOLOG_Path, file_name)"
   ]
  }
 ],
 "metadata": {
  "kernelspec": {
   "display_name": "Python 3 (ipykernel)",
   "language": "python",
   "name": "python3"
  },
  "language_info": {
   "codemirror_mode": {
    "name": "ipython",
    "version": 3
   },
   "file_extension": ".py",
   "mimetype": "text/x-python",
   "name": "python",
   "nbconvert_exporter": "python",
   "pygments_lexer": "ipython3",
   "version": "3.10.6"
  }
 },
 "nbformat": 4,
 "nbformat_minor": 4
}
